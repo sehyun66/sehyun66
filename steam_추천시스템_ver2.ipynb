{
  "cells": [
    {
      "cell_type": "markdown",
      "metadata": {
        "id": "view-in-github",
        "colab_type": "text"
      },
      "source": [
        "<a href=\"https://colab.research.google.com/github/sehyun66/sehyun66/blob/master/steam_%EC%B6%94%EC%B2%9C%EC%8B%9C%EC%8A%A4%ED%85%9C_ver2.ipynb\" target=\"_parent\"><img src=\"https://colab.research.google.com/assets/colab-badge.svg\" alt=\"Open In Colab\"/></a>"
      ]
    },
    {
      "cell_type": "code",
      "execution_count": 1,
      "metadata": {
        "colab": {
          "base_uri": "https://localhost:8080/"
        },
        "id": "6qNA4OU26IlV",
        "outputId": "8f9a6f94-37ac-4108-f0df-7728e8d34bd5"
      },
      "outputs": [
        {
          "output_type": "stream",
          "name": "stdout",
          "text": [
            "Mounted at /content/drive\n",
            "/content/drive/MyDrive/MultiCampus/데이터 시각화3\n"
          ]
        }
      ],
      "source": [
        "## 코랩을 사용할 때\n",
        "#드라이브 마운트\n",
        "from google.colab import drive\n",
        "drive.mount('/content/drive')\n",
        "\n",
        "#현재 작업 위치 이동\n",
        "#띄어쓰기에 \\붙일 것\n",
        "%cd /content/drive/MyDrive/MultiCampus/데이터 시각화3"
      ]
    },
    {
      "cell_type": "code",
      "execution_count": 2,
      "metadata": {
        "id": "ZTSBn41NBqku"
      },
      "outputs": [],
      "source": [
        "import pandas as pd"
      ]
    },
    {
      "cell_type": "code",
      "source": [
        "import pickle"
      ],
      "metadata": {
        "id": "lkkIxntqt1yW"
      },
      "execution_count": 3,
      "outputs": []
    },
    {
      "cell_type": "code",
      "source": [
        ""
      ],
      "metadata": {
        "id": "yhd0bg1g5Hi_"
      },
      "execution_count": null,
      "outputs": []
    },
    {
      "cell_type": "code",
      "source": [
        "df_steam_meta_con = pd.read_pickle('steam_meta.pkl')"
      ],
      "metadata": {
        "id": "z6baCKVmwxFg"
      },
      "execution_count": 5,
      "outputs": []
    },
    {
      "cell_type": "code",
      "source": [
        "df_steam_meta_con.head()"
      ],
      "metadata": {
        "colab": {
          "base_uri": "https://localhost:8080/",
          "height": 206
        },
        "id": "k7-ON3-h1soP",
        "outputId": "f2ad3952-d37f-47a8-ff9c-86aa3e04ecba"
      },
      "execution_count": 28,
      "outputs": [
        {
          "output_type": "execute_result",
          "data": {
            "text/plain": [
              "   appid                title user  userscore\n",
              "0    240  COUNTERSTRIKESOURCE    1          1\n",
              "1     40    DEATHMATCHCLASSIC    1          3\n",
              "2     10        COUNTERSTRIKE    1          2\n",
              "3    130    HALFLIFEBLUESHIFT    1          3\n",
              "4     40    DEATHMATCHCLASSIC    1          3"
            ],
            "text/html": [
              "\n",
              "  <div id=\"df-c608dc18-ff59-4021-93ea-eea4cca2d6c1\">\n",
              "    <div class=\"colab-df-container\">\n",
              "      <div>\n",
              "<style scoped>\n",
              "    .dataframe tbody tr th:only-of-type {\n",
              "        vertical-align: middle;\n",
              "    }\n",
              "\n",
              "    .dataframe tbody tr th {\n",
              "        vertical-align: top;\n",
              "    }\n",
              "\n",
              "    .dataframe thead th {\n",
              "        text-align: right;\n",
              "    }\n",
              "</style>\n",
              "<table border=\"1\" class=\"dataframe\">\n",
              "  <thead>\n",
              "    <tr style=\"text-align: right;\">\n",
              "      <th></th>\n",
              "      <th>appid</th>\n",
              "      <th>title</th>\n",
              "      <th>user</th>\n",
              "      <th>userscore</th>\n",
              "    </tr>\n",
              "  </thead>\n",
              "  <tbody>\n",
              "    <tr>\n",
              "      <th>0</th>\n",
              "      <td>240</td>\n",
              "      <td>COUNTERSTRIKESOURCE</td>\n",
              "      <td>1</td>\n",
              "      <td>1</td>\n",
              "    </tr>\n",
              "    <tr>\n",
              "      <th>1</th>\n",
              "      <td>40</td>\n",
              "      <td>DEATHMATCHCLASSIC</td>\n",
              "      <td>1</td>\n",
              "      <td>3</td>\n",
              "    </tr>\n",
              "    <tr>\n",
              "      <th>2</th>\n",
              "      <td>10</td>\n",
              "      <td>COUNTERSTRIKE</td>\n",
              "      <td>1</td>\n",
              "      <td>2</td>\n",
              "    </tr>\n",
              "    <tr>\n",
              "      <th>3</th>\n",
              "      <td>130</td>\n",
              "      <td>HALFLIFEBLUESHIFT</td>\n",
              "      <td>1</td>\n",
              "      <td>3</td>\n",
              "    </tr>\n",
              "    <tr>\n",
              "      <th>4</th>\n",
              "      <td>40</td>\n",
              "      <td>DEATHMATCHCLASSIC</td>\n",
              "      <td>1</td>\n",
              "      <td>3</td>\n",
              "    </tr>\n",
              "  </tbody>\n",
              "</table>\n",
              "</div>\n",
              "      <button class=\"colab-df-convert\" onclick=\"convertToInteractive('df-c608dc18-ff59-4021-93ea-eea4cca2d6c1')\"\n",
              "              title=\"Convert this dataframe to an interactive table.\"\n",
              "              style=\"display:none;\">\n",
              "        \n",
              "  <svg xmlns=\"http://www.w3.org/2000/svg\" height=\"24px\"viewBox=\"0 0 24 24\"\n",
              "       width=\"24px\">\n",
              "    <path d=\"M0 0h24v24H0V0z\" fill=\"none\"/>\n",
              "    <path d=\"M18.56 5.44l.94 2.06.94-2.06 2.06-.94-2.06-.94-.94-2.06-.94 2.06-2.06.94zm-11 1L8.5 8.5l.94-2.06 2.06-.94-2.06-.94L8.5 2.5l-.94 2.06-2.06.94zm10 10l.94 2.06.94-2.06 2.06-.94-2.06-.94-.94-2.06-.94 2.06-2.06.94z\"/><path d=\"M17.41 7.96l-1.37-1.37c-.4-.4-.92-.59-1.43-.59-.52 0-1.04.2-1.43.59L10.3 9.45l-7.72 7.72c-.78.78-.78 2.05 0 2.83L4 21.41c.39.39.9.59 1.41.59.51 0 1.02-.2 1.41-.59l7.78-7.78 2.81-2.81c.8-.78.8-2.07 0-2.86zM5.41 20L4 18.59l7.72-7.72 1.47 1.35L5.41 20z\"/>\n",
              "  </svg>\n",
              "      </button>\n",
              "      \n",
              "  <style>\n",
              "    .colab-df-container {\n",
              "      display:flex;\n",
              "      flex-wrap:wrap;\n",
              "      gap: 12px;\n",
              "    }\n",
              "\n",
              "    .colab-df-convert {\n",
              "      background-color: #E8F0FE;\n",
              "      border: none;\n",
              "      border-radius: 50%;\n",
              "      cursor: pointer;\n",
              "      display: none;\n",
              "      fill: #1967D2;\n",
              "      height: 32px;\n",
              "      padding: 0 0 0 0;\n",
              "      width: 32px;\n",
              "    }\n",
              "\n",
              "    .colab-df-convert:hover {\n",
              "      background-color: #E2EBFA;\n",
              "      box-shadow: 0px 1px 2px rgba(60, 64, 67, 0.3), 0px 1px 3px 1px rgba(60, 64, 67, 0.15);\n",
              "      fill: #174EA6;\n",
              "    }\n",
              "\n",
              "    [theme=dark] .colab-df-convert {\n",
              "      background-color: #3B4455;\n",
              "      fill: #D2E3FC;\n",
              "    }\n",
              "\n",
              "    [theme=dark] .colab-df-convert:hover {\n",
              "      background-color: #434B5C;\n",
              "      box-shadow: 0px 1px 3px 1px rgba(0, 0, 0, 0.15);\n",
              "      filter: drop-shadow(0px 1px 2px rgba(0, 0, 0, 0.3));\n",
              "      fill: #FFFFFF;\n",
              "    }\n",
              "  </style>\n",
              "\n",
              "      <script>\n",
              "        const buttonEl =\n",
              "          document.querySelector('#df-c608dc18-ff59-4021-93ea-eea4cca2d6c1 button.colab-df-convert');\n",
              "        buttonEl.style.display =\n",
              "          google.colab.kernel.accessAllowed ? 'block' : 'none';\n",
              "\n",
              "        async function convertToInteractive(key) {\n",
              "          const element = document.querySelector('#df-c608dc18-ff59-4021-93ea-eea4cca2d6c1');\n",
              "          const dataTable =\n",
              "            await google.colab.kernel.invokeFunction('convertToInteractive',\n",
              "                                                     [key], {});\n",
              "          if (!dataTable) return;\n",
              "\n",
              "          const docLinkHtml = 'Like what you see? Visit the ' +\n",
              "            '<a target=\"_blank\" href=https://colab.research.google.com/notebooks/data_table.ipynb>data table notebook</a>'\n",
              "            + ' to learn more about interactive tables.';\n",
              "          element.innerHTML = '';\n",
              "          dataTable['output_type'] = 'display_data';\n",
              "          await google.colab.output.renderOutput(dataTable, element);\n",
              "          const docLink = document.createElement('div');\n",
              "          docLink.innerHTML = docLinkHtml;\n",
              "          element.appendChild(docLink);\n",
              "        }\n",
              "      </script>\n",
              "    </div>\n",
              "  </div>\n",
              "  "
            ]
          },
          "metadata": {},
          "execution_count": 28
        }
      ]
    },
    {
      "cell_type": "code",
      "source": [
        "!pip install surprise"
      ],
      "metadata": {
        "id": "EjFzLaRgtac2",
        "colab": {
          "base_uri": "https://localhost:8080/"
        },
        "outputId": "2bb974d4-04ec-447f-9f6c-16ffec65b505"
      },
      "execution_count": 21,
      "outputs": [
        {
          "output_type": "stream",
          "name": "stdout",
          "text": [
            "Looking in indexes: https://pypi.org/simple, https://us-python.pkg.dev/colab-wheels/public/simple/\n",
            "Collecting surprise\n",
            "  Downloading surprise-0.1-py2.py3-none-any.whl (1.8 kB)\n",
            "Collecting scikit-surprise\n",
            "  Downloading scikit-surprise-1.1.1.tar.gz (11.8 MB)\n",
            "\u001b[K     |████████████████████████████████| 11.8 MB 14.8 MB/s \n",
            "\u001b[?25hRequirement already satisfied: joblib>=0.11 in /usr/local/lib/python3.7/dist-packages (from scikit-surprise->surprise) (1.1.0)\n",
            "Requirement already satisfied: numpy>=1.11.2 in /usr/local/lib/python3.7/dist-packages (from scikit-surprise->surprise) (1.21.6)\n",
            "Requirement already satisfied: scipy>=1.0.0 in /usr/local/lib/python3.7/dist-packages (from scikit-surprise->surprise) (1.7.3)\n",
            "Requirement already satisfied: six>=1.10.0 in /usr/local/lib/python3.7/dist-packages (from scikit-surprise->surprise) (1.15.0)\n",
            "Building wheels for collected packages: scikit-surprise\n",
            "  Building wheel for scikit-surprise (setup.py) ... \u001b[?25l\u001b[?25hdone\n",
            "  Created wheel for scikit-surprise: filename=scikit_surprise-1.1.1-cp37-cp37m-linux_x86_64.whl size=1633742 sha256=dd668fdf236be6e30866e8a3c68d07193e69aa13599a77fcef2ea1c6eae61ac9\n",
            "  Stored in directory: /root/.cache/pip/wheels/76/44/74/b498c42be47b2406bd27994e16c5188e337c657025ab400c1c\n",
            "Successfully built scikit-surprise\n",
            "Installing collected packages: scikit-surprise, surprise\n",
            "Successfully installed scikit-surprise-1.1.1 surprise-0.1\n"
          ]
        }
      ]
    },
    {
      "cell_type": "code",
      "source": [
        "from surprise import SVD\n",
        "from surprise import Dataset\n",
        "from surprise import Reader\n",
        "from surprise.model_selection import cross_validate\n",
        "from surprise import accuracy"
      ],
      "metadata": {
        "id": "G-Ivy_hR0xWE"
      },
      "execution_count": 22,
      "outputs": []
    },
    {
      "cell_type": "code",
      "source": [
        "reader=Reader(rating_scale=(0,10))\n",
        "data = Dataset.load_from_df(df_steam_meta_con[['appid','user','userscore']],\n",
        "                           reader=reader)"
      ],
      "metadata": {
        "id": "fZbjF26R1UQ5"
      },
      "execution_count": 24,
      "outputs": []
    },
    {
      "cell_type": "code",
      "source": [
        "cross_validate(SVD(),data,measures=['RMSE','MAE'],cv=5,verbose=1)"
      ],
      "metadata": {
        "colab": {
          "base_uri": "https://localhost:8080/"
        },
        "id": "-IM7cf8H0194",
        "outputId": "0ad22d8b-3cc6-4c34-af89-6f21699aeae8"
      },
      "execution_count": 29,
      "outputs": [
        {
          "output_type": "stream",
          "name": "stdout",
          "text": [
            "Evaluating RMSE, MAE of algorithm SVD on 5 split(s).\n",
            "\n",
            "                  Fold 1  Fold 2  Fold 3  Fold 4  Fold 5  Mean    Std     \n",
            "RMSE (testset)    2.8615  2.8616  2.8608  2.8622  2.8599  2.8612  0.0008  \n",
            "MAE (testset)     2.2116  2.2130  2.2110  2.2108  2.2130  2.2119  0.0010  \n",
            "Fit time          100.84  111.13  103.71  103.63  103.08  104.48  3.49    \n",
            "Test time         7.55    5.91    6.80    6.01    5.90    6.43    0.65    \n"
          ]
        },
        {
          "output_type": "execute_result",
          "data": {
            "text/plain": [
              "{'fit_time': (100.84192299842834,\n",
              "  111.13316226005554,\n",
              "  103.70682454109192,\n",
              "  103.63160467147827,\n",
              "  103.07791781425476),\n",
              " 'test_mae': array([2.21163609, 2.21295064, 2.21097534, 2.21079012, 2.21302248]),\n",
              " 'test_rmse': array([2.8615055 , 2.86155234, 2.86082621, 2.8621815 , 2.85991656]),\n",
              " 'test_time': (7.553109645843506,\n",
              "  5.910796880722046,\n",
              "  6.8043601512908936,\n",
              "  6.007658958435059,\n",
              "  5.896688461303711)}"
            ]
          },
          "metadata": {},
          "execution_count": 29
        }
      ]
    },
    {
      "cell_type": "code",
      "execution_count": 6,
      "metadata": {
        "id": "99OHfycuLVHg"
      },
      "outputs": [],
      "source": [
        "from sklearn.decomposition import TruncatedSVD"
      ]
    },
    {
      "cell_type": "code",
      "execution_count": 7,
      "metadata": {
        "id": "z8oQYK7HQ2XW"
      },
      "outputs": [],
      "source": [
        "from tqdm import tqdm"
      ]
    },
    {
      "cell_type": "code",
      "execution_count": 8,
      "metadata": {
        "id": "OdWpmBYQ9y0x"
      },
      "outputs": [],
      "source": [
        "SVD2 = TruncatedSVD(n_components=20)"
      ]
    },
    {
      "cell_type": "code",
      "execution_count": 9,
      "metadata": {
        "id": "KWRN0LVqD0yf"
      },
      "outputs": [],
      "source": [
        "pdf_steam= pd.pivot_table(df_steam_meta_con,\n",
        "                     index='appid',\n",
        "                     columns='user',\n",
        "                     values='userscore'\n",
        ")"
      ]
    },
    {
      "cell_type": "code",
      "execution_count": 10,
      "metadata": {
        "id": "NL0_Efea_b0V",
        "colab": {
          "base_uri": "https://localhost:8080/"
        },
        "outputId": "551dba2b-9928-4f6a-c7a3-a6e22a1e0098"
      },
      "outputs": [
        {
          "output_type": "stream",
          "name": "stderr",
          "text": [
            "/usr/local/lib/python3.7/dist-packages/sklearn/utils/validation.py:1692: FutureWarning: Feature names only support names that are all strings. Got feature names with dtypes: ['float', 'int', 'str']. An error will be raised in 1.2.\n",
            "  FutureWarning,\n"
          ]
        },
        {
          "output_type": "execute_result",
          "data": {
            "text/plain": [
              "(21630, 20)"
            ]
          },
          "metadata": {},
          "execution_count": 10
        }
      ],
      "source": [
        "matrix=SVD2.fit_transform(pdf_steam.fillna(0))\n",
        "matrix.shape"
      ]
    },
    {
      "cell_type": "code",
      "execution_count": 11,
      "metadata": {
        "id": "uomcjWyHDjjX"
      },
      "outputs": [],
      "source": [
        "from sklearn.metrics.pairwise import cosine_similarity\n",
        "import numpy as np"
      ]
    },
    {
      "cell_type": "code",
      "execution_count": 12,
      "metadata": {
        "id": "gkAFs6_LCQwZ"
      },
      "outputs": [],
      "source": [
        "similarity_rate=cosine_similarity(matrix,matrix)"
      ]
    },
    {
      "cell_type": "code",
      "execution_count": 13,
      "metadata": {
        "id": "tqHJ_PsfDmU5",
        "colab": {
          "base_uri": "https://localhost:8080/"
        },
        "outputId": "45467d19-24a1-41b5-bc5c-1022f01c52ea"
      },
      "outputs": [
        {
          "output_type": "execute_result",
          "data": {
            "text/plain": [
              "array([[ 0.00000000e+00,  5.74591776e-01,  7.29265146e-01, ...,\n",
              "        -8.15970054e-04,  6.12462797e-01,  1.93639035e-01],\n",
              "       [ 5.74591776e-01,  0.00000000e+00,  9.39339623e-01, ...,\n",
              "         1.98321923e-01,  4.33468565e-01,  5.26659845e-02],\n",
              "       [ 7.29265146e-01,  9.39339623e-01,  0.00000000e+00, ...,\n",
              "         2.51690141e-01,  5.49936049e-01,  7.83228168e-02],\n",
              "       ...,\n",
              "       [-8.15970054e-04,  1.98321923e-01,  2.51690141e-01, ...,\n",
              "         0.00000000e+00,  1.96098033e-01, -1.49236907e-01],\n",
              "       [ 6.12462797e-01,  4.33468565e-01,  5.49936049e-01, ...,\n",
              "         1.96098033e-01,  0.00000000e+00,  3.96602350e-01],\n",
              "       [ 1.93639035e-01,  5.26659845e-02,  7.83228168e-02, ...,\n",
              "        -1.49236907e-01,  3.96602350e-01,  0.00000000e+00]])"
            ]
          },
          "metadata": {},
          "execution_count": 13
        }
      ],
      "source": [
        "np.fill_diagonal(similarity_rate,0)\n",
        "similarity_rate"
      ]
    },
    {
      "cell_type": "code",
      "execution_count": 14,
      "metadata": {
        "id": "SGU8y3FZDtC3"
      },
      "outputs": [],
      "source": [
        "pdf_steam2=pdf_steam.reset_index()\n",
        "game_title=pdf_steam2['appid']"
      ]
    },
    {
      "cell_type": "code",
      "execution_count": 15,
      "metadata": {
        "id": "CbFFQcU8ECvJ",
        "colab": {
          "base_uri": "https://localhost:8080/",
          "height": 455
        },
        "outputId": "13008264-14a8-4b17-ff34-bd5f1671172f"
      },
      "outputs": [
        {
          "output_type": "execute_result",
          "data": {
            "text/plain": [
              "appid     10        20        30        40        50        60        70       \\\n",
              "appid                                                                           \n",
              "10       0.000000  0.574592  0.729265  0.823365  0.335538  0.801024  0.831412   \n",
              "20       0.574592  0.000000  0.939340  0.641878  0.857645  0.641753  0.706057   \n",
              "30       0.729265  0.939340  0.000000  0.751230  0.762335  0.742095  0.744005   \n",
              "40       0.823365  0.641878  0.751230  0.000000  0.588962  0.996512  0.874389   \n",
              "50       0.335538  0.857645  0.762335  0.588962  0.000000  0.613067  0.653177   \n",
              "...           ...       ...       ...       ...       ...       ...       ...   \n",
              "2051970  0.074841  0.001900  0.031559  0.075483 -0.066828  0.083249 -0.029930   \n",
              "2055270 -0.115273 -0.120805 -0.111723 -0.099022  0.010787 -0.075151 -0.016487   \n",
              "2057930 -0.000816  0.198322  0.251690 -0.051734  0.118128 -0.040975 -0.159438   \n",
              "2058650  0.612463  0.433469  0.549936  0.419605  0.074478  0.381333  0.306416   \n",
              "2068930  0.193639  0.052666  0.078323  0.106503 -0.000328  0.062425  0.161805   \n",
              "\n",
              "appid     130       220       240      ...   2026370   2027100   2050470  \\\n",
              "appid                                  ...                                 \n",
              "10       0.350146  0.768500  0.958411  ...  0.167439 -0.028911  0.167439   \n",
              "20       0.852721  0.168515  0.574055  ...  0.133308  0.257912  0.133308   \n",
              "30       0.759395  0.324003  0.733614  ...  0.091316  0.142260  0.091316   \n",
              "40       0.610427  0.707720  0.805287  ...  0.068877 -0.014242  0.068877   \n",
              "50       0.997998  0.122746  0.314806  ... -0.046047  0.183542 -0.046047   \n",
              "...           ...       ...       ...  ...       ...       ...       ...   \n",
              "2051970 -0.054702  0.054061  0.082458  ... -0.226146 -0.198023 -0.226146   \n",
              "2055270  0.017565  0.041723 -0.091488  ...  0.251387 -0.059942  0.251387   \n",
              "2057930  0.118295 -0.240559 -0.060750  ...  0.112179 -0.322428  0.112179   \n",
              "2058650  0.090054  0.096897  0.636561  ...  0.214637  0.070446  0.214637   \n",
              "2068930  0.008979 -0.032728  0.196393  ... -0.058918  0.118787 -0.058918   \n",
              "\n",
              "appid     2050680   2051440   2051970   2055270   2057930   2058650   2068930  \n",
              "appid                                                                          \n",
              "10      -0.048001 -0.007412  0.074841 -0.115273 -0.000816  0.612463  0.193639  \n",
              "20       0.041667 -0.014656  0.001900 -0.120805  0.198322  0.433469  0.052666  \n",
              "30      -0.029579 -0.033457  0.031559 -0.111723  0.251690  0.549936  0.078323  \n",
              "40      -0.227773 -0.059871  0.075483 -0.099022 -0.051734  0.419605  0.106503  \n",
              "50      -0.027055 -0.050823 -0.066828  0.010787  0.118128  0.074478 -0.000328  \n",
              "...           ...       ...       ...       ...       ...       ...       ...  \n",
              "2051970 -0.313482  0.105559  0.000000 -0.134154 -0.060372  0.339442  0.430208  \n",
              "2055270  0.705711  0.733530 -0.134154  0.000000  0.171529 -0.277706 -0.196565  \n",
              "2057930  0.190017  0.099967 -0.060372  0.171529  0.000000  0.196098 -0.149237  \n",
              "2058650 -0.081894  0.115033  0.339442 -0.277706  0.196098  0.000000  0.396602  \n",
              "2068930 -0.354605 -0.064626  0.430208 -0.196565 -0.149237  0.396602  0.000000  \n",
              "\n",
              "[21630 rows x 21630 columns]"
            ],
            "text/html": [
              "\n",
              "  <div id=\"df-11576fb0-2d7f-4944-958f-8cc88df91259\">\n",
              "    <div class=\"colab-df-container\">\n",
              "      <div>\n",
              "<style scoped>\n",
              "    .dataframe tbody tr th:only-of-type {\n",
              "        vertical-align: middle;\n",
              "    }\n",
              "\n",
              "    .dataframe tbody tr th {\n",
              "        vertical-align: top;\n",
              "    }\n",
              "\n",
              "    .dataframe thead th {\n",
              "        text-align: right;\n",
              "    }\n",
              "</style>\n",
              "<table border=\"1\" class=\"dataframe\">\n",
              "  <thead>\n",
              "    <tr style=\"text-align: right;\">\n",
              "      <th>appid</th>\n",
              "      <th>10</th>\n",
              "      <th>20</th>\n",
              "      <th>30</th>\n",
              "      <th>40</th>\n",
              "      <th>50</th>\n",
              "      <th>60</th>\n",
              "      <th>70</th>\n",
              "      <th>130</th>\n",
              "      <th>220</th>\n",
              "      <th>240</th>\n",
              "      <th>...</th>\n",
              "      <th>2026370</th>\n",
              "      <th>2027100</th>\n",
              "      <th>2050470</th>\n",
              "      <th>2050680</th>\n",
              "      <th>2051440</th>\n",
              "      <th>2051970</th>\n",
              "      <th>2055270</th>\n",
              "      <th>2057930</th>\n",
              "      <th>2058650</th>\n",
              "      <th>2068930</th>\n",
              "    </tr>\n",
              "    <tr>\n",
              "      <th>appid</th>\n",
              "      <th></th>\n",
              "      <th></th>\n",
              "      <th></th>\n",
              "      <th></th>\n",
              "      <th></th>\n",
              "      <th></th>\n",
              "      <th></th>\n",
              "      <th></th>\n",
              "      <th></th>\n",
              "      <th></th>\n",
              "      <th></th>\n",
              "      <th></th>\n",
              "      <th></th>\n",
              "      <th></th>\n",
              "      <th></th>\n",
              "      <th></th>\n",
              "      <th></th>\n",
              "      <th></th>\n",
              "      <th></th>\n",
              "      <th></th>\n",
              "      <th></th>\n",
              "    </tr>\n",
              "  </thead>\n",
              "  <tbody>\n",
              "    <tr>\n",
              "      <th>10</th>\n",
              "      <td>0.000000</td>\n",
              "      <td>0.574592</td>\n",
              "      <td>0.729265</td>\n",
              "      <td>0.823365</td>\n",
              "      <td>0.335538</td>\n",
              "      <td>0.801024</td>\n",
              "      <td>0.831412</td>\n",
              "      <td>0.350146</td>\n",
              "      <td>0.768500</td>\n",
              "      <td>0.958411</td>\n",
              "      <td>...</td>\n",
              "      <td>0.167439</td>\n",
              "      <td>-0.028911</td>\n",
              "      <td>0.167439</td>\n",
              "      <td>-0.048001</td>\n",
              "      <td>-0.007412</td>\n",
              "      <td>0.074841</td>\n",
              "      <td>-0.115273</td>\n",
              "      <td>-0.000816</td>\n",
              "      <td>0.612463</td>\n",
              "      <td>0.193639</td>\n",
              "    </tr>\n",
              "    <tr>\n",
              "      <th>20</th>\n",
              "      <td>0.574592</td>\n",
              "      <td>0.000000</td>\n",
              "      <td>0.939340</td>\n",
              "      <td>0.641878</td>\n",
              "      <td>0.857645</td>\n",
              "      <td>0.641753</td>\n",
              "      <td>0.706057</td>\n",
              "      <td>0.852721</td>\n",
              "      <td>0.168515</td>\n",
              "      <td>0.574055</td>\n",
              "      <td>...</td>\n",
              "      <td>0.133308</td>\n",
              "      <td>0.257912</td>\n",
              "      <td>0.133308</td>\n",
              "      <td>0.041667</td>\n",
              "      <td>-0.014656</td>\n",
              "      <td>0.001900</td>\n",
              "      <td>-0.120805</td>\n",
              "      <td>0.198322</td>\n",
              "      <td>0.433469</td>\n",
              "      <td>0.052666</td>\n",
              "    </tr>\n",
              "    <tr>\n",
              "      <th>30</th>\n",
              "      <td>0.729265</td>\n",
              "      <td>0.939340</td>\n",
              "      <td>0.000000</td>\n",
              "      <td>0.751230</td>\n",
              "      <td>0.762335</td>\n",
              "      <td>0.742095</td>\n",
              "      <td>0.744005</td>\n",
              "      <td>0.759395</td>\n",
              "      <td>0.324003</td>\n",
              "      <td>0.733614</td>\n",
              "      <td>...</td>\n",
              "      <td>0.091316</td>\n",
              "      <td>0.142260</td>\n",
              "      <td>0.091316</td>\n",
              "      <td>-0.029579</td>\n",
              "      <td>-0.033457</td>\n",
              "      <td>0.031559</td>\n",
              "      <td>-0.111723</td>\n",
              "      <td>0.251690</td>\n",
              "      <td>0.549936</td>\n",
              "      <td>0.078323</td>\n",
              "    </tr>\n",
              "    <tr>\n",
              "      <th>40</th>\n",
              "      <td>0.823365</td>\n",
              "      <td>0.641878</td>\n",
              "      <td>0.751230</td>\n",
              "      <td>0.000000</td>\n",
              "      <td>0.588962</td>\n",
              "      <td>0.996512</td>\n",
              "      <td>0.874389</td>\n",
              "      <td>0.610427</td>\n",
              "      <td>0.707720</td>\n",
              "      <td>0.805287</td>\n",
              "      <td>...</td>\n",
              "      <td>0.068877</td>\n",
              "      <td>-0.014242</td>\n",
              "      <td>0.068877</td>\n",
              "      <td>-0.227773</td>\n",
              "      <td>-0.059871</td>\n",
              "      <td>0.075483</td>\n",
              "      <td>-0.099022</td>\n",
              "      <td>-0.051734</td>\n",
              "      <td>0.419605</td>\n",
              "      <td>0.106503</td>\n",
              "    </tr>\n",
              "    <tr>\n",
              "      <th>50</th>\n",
              "      <td>0.335538</td>\n",
              "      <td>0.857645</td>\n",
              "      <td>0.762335</td>\n",
              "      <td>0.588962</td>\n",
              "      <td>0.000000</td>\n",
              "      <td>0.613067</td>\n",
              "      <td>0.653177</td>\n",
              "      <td>0.997998</td>\n",
              "      <td>0.122746</td>\n",
              "      <td>0.314806</td>\n",
              "      <td>...</td>\n",
              "      <td>-0.046047</td>\n",
              "      <td>0.183542</td>\n",
              "      <td>-0.046047</td>\n",
              "      <td>-0.027055</td>\n",
              "      <td>-0.050823</td>\n",
              "      <td>-0.066828</td>\n",
              "      <td>0.010787</td>\n",
              "      <td>0.118128</td>\n",
              "      <td>0.074478</td>\n",
              "      <td>-0.000328</td>\n",
              "    </tr>\n",
              "    <tr>\n",
              "      <th>...</th>\n",
              "      <td>...</td>\n",
              "      <td>...</td>\n",
              "      <td>...</td>\n",
              "      <td>...</td>\n",
              "      <td>...</td>\n",
              "      <td>...</td>\n",
              "      <td>...</td>\n",
              "      <td>...</td>\n",
              "      <td>...</td>\n",
              "      <td>...</td>\n",
              "      <td>...</td>\n",
              "      <td>...</td>\n",
              "      <td>...</td>\n",
              "      <td>...</td>\n",
              "      <td>...</td>\n",
              "      <td>...</td>\n",
              "      <td>...</td>\n",
              "      <td>...</td>\n",
              "      <td>...</td>\n",
              "      <td>...</td>\n",
              "      <td>...</td>\n",
              "    </tr>\n",
              "    <tr>\n",
              "      <th>2051970</th>\n",
              "      <td>0.074841</td>\n",
              "      <td>0.001900</td>\n",
              "      <td>0.031559</td>\n",
              "      <td>0.075483</td>\n",
              "      <td>-0.066828</td>\n",
              "      <td>0.083249</td>\n",
              "      <td>-0.029930</td>\n",
              "      <td>-0.054702</td>\n",
              "      <td>0.054061</td>\n",
              "      <td>0.082458</td>\n",
              "      <td>...</td>\n",
              "      <td>-0.226146</td>\n",
              "      <td>-0.198023</td>\n",
              "      <td>-0.226146</td>\n",
              "      <td>-0.313482</td>\n",
              "      <td>0.105559</td>\n",
              "      <td>0.000000</td>\n",
              "      <td>-0.134154</td>\n",
              "      <td>-0.060372</td>\n",
              "      <td>0.339442</td>\n",
              "      <td>0.430208</td>\n",
              "    </tr>\n",
              "    <tr>\n",
              "      <th>2055270</th>\n",
              "      <td>-0.115273</td>\n",
              "      <td>-0.120805</td>\n",
              "      <td>-0.111723</td>\n",
              "      <td>-0.099022</td>\n",
              "      <td>0.010787</td>\n",
              "      <td>-0.075151</td>\n",
              "      <td>-0.016487</td>\n",
              "      <td>0.017565</td>\n",
              "      <td>0.041723</td>\n",
              "      <td>-0.091488</td>\n",
              "      <td>...</td>\n",
              "      <td>0.251387</td>\n",
              "      <td>-0.059942</td>\n",
              "      <td>0.251387</td>\n",
              "      <td>0.705711</td>\n",
              "      <td>0.733530</td>\n",
              "      <td>-0.134154</td>\n",
              "      <td>0.000000</td>\n",
              "      <td>0.171529</td>\n",
              "      <td>-0.277706</td>\n",
              "      <td>-0.196565</td>\n",
              "    </tr>\n",
              "    <tr>\n",
              "      <th>2057930</th>\n",
              "      <td>-0.000816</td>\n",
              "      <td>0.198322</td>\n",
              "      <td>0.251690</td>\n",
              "      <td>-0.051734</td>\n",
              "      <td>0.118128</td>\n",
              "      <td>-0.040975</td>\n",
              "      <td>-0.159438</td>\n",
              "      <td>0.118295</td>\n",
              "      <td>-0.240559</td>\n",
              "      <td>-0.060750</td>\n",
              "      <td>...</td>\n",
              "      <td>0.112179</td>\n",
              "      <td>-0.322428</td>\n",
              "      <td>0.112179</td>\n",
              "      <td>0.190017</td>\n",
              "      <td>0.099967</td>\n",
              "      <td>-0.060372</td>\n",
              "      <td>0.171529</td>\n",
              "      <td>0.000000</td>\n",
              "      <td>0.196098</td>\n",
              "      <td>-0.149237</td>\n",
              "    </tr>\n",
              "    <tr>\n",
              "      <th>2058650</th>\n",
              "      <td>0.612463</td>\n",
              "      <td>0.433469</td>\n",
              "      <td>0.549936</td>\n",
              "      <td>0.419605</td>\n",
              "      <td>0.074478</td>\n",
              "      <td>0.381333</td>\n",
              "      <td>0.306416</td>\n",
              "      <td>0.090054</td>\n",
              "      <td>0.096897</td>\n",
              "      <td>0.636561</td>\n",
              "      <td>...</td>\n",
              "      <td>0.214637</td>\n",
              "      <td>0.070446</td>\n",
              "      <td>0.214637</td>\n",
              "      <td>-0.081894</td>\n",
              "      <td>0.115033</td>\n",
              "      <td>0.339442</td>\n",
              "      <td>-0.277706</td>\n",
              "      <td>0.196098</td>\n",
              "      <td>0.000000</td>\n",
              "      <td>0.396602</td>\n",
              "    </tr>\n",
              "    <tr>\n",
              "      <th>2068930</th>\n",
              "      <td>0.193639</td>\n",
              "      <td>0.052666</td>\n",
              "      <td>0.078323</td>\n",
              "      <td>0.106503</td>\n",
              "      <td>-0.000328</td>\n",
              "      <td>0.062425</td>\n",
              "      <td>0.161805</td>\n",
              "      <td>0.008979</td>\n",
              "      <td>-0.032728</td>\n",
              "      <td>0.196393</td>\n",
              "      <td>...</td>\n",
              "      <td>-0.058918</td>\n",
              "      <td>0.118787</td>\n",
              "      <td>-0.058918</td>\n",
              "      <td>-0.354605</td>\n",
              "      <td>-0.064626</td>\n",
              "      <td>0.430208</td>\n",
              "      <td>-0.196565</td>\n",
              "      <td>-0.149237</td>\n",
              "      <td>0.396602</td>\n",
              "      <td>0.000000</td>\n",
              "    </tr>\n",
              "  </tbody>\n",
              "</table>\n",
              "<p>21630 rows × 21630 columns</p>\n",
              "</div>\n",
              "      <button class=\"colab-df-convert\" onclick=\"convertToInteractive('df-11576fb0-2d7f-4944-958f-8cc88df91259')\"\n",
              "              title=\"Convert this dataframe to an interactive table.\"\n",
              "              style=\"display:none;\">\n",
              "        \n",
              "  <svg xmlns=\"http://www.w3.org/2000/svg\" height=\"24px\"viewBox=\"0 0 24 24\"\n",
              "       width=\"24px\">\n",
              "    <path d=\"M0 0h24v24H0V0z\" fill=\"none\"/>\n",
              "    <path d=\"M18.56 5.44l.94 2.06.94-2.06 2.06-.94-2.06-.94-.94-2.06-.94 2.06-2.06.94zm-11 1L8.5 8.5l.94-2.06 2.06-.94-2.06-.94L8.5 2.5l-.94 2.06-2.06.94zm10 10l.94 2.06.94-2.06 2.06-.94-2.06-.94-.94-2.06-.94 2.06-2.06.94z\"/><path d=\"M17.41 7.96l-1.37-1.37c-.4-.4-.92-.59-1.43-.59-.52 0-1.04.2-1.43.59L10.3 9.45l-7.72 7.72c-.78.78-.78 2.05 0 2.83L4 21.41c.39.39.9.59 1.41.59.51 0 1.02-.2 1.41-.59l7.78-7.78 2.81-2.81c.8-.78.8-2.07 0-2.86zM5.41 20L4 18.59l7.72-7.72 1.47 1.35L5.41 20z\"/>\n",
              "  </svg>\n",
              "      </button>\n",
              "      \n",
              "  <style>\n",
              "    .colab-df-container {\n",
              "      display:flex;\n",
              "      flex-wrap:wrap;\n",
              "      gap: 12px;\n",
              "    }\n",
              "\n",
              "    .colab-df-convert {\n",
              "      background-color: #E8F0FE;\n",
              "      border: none;\n",
              "      border-radius: 50%;\n",
              "      cursor: pointer;\n",
              "      display: none;\n",
              "      fill: #1967D2;\n",
              "      height: 32px;\n",
              "      padding: 0 0 0 0;\n",
              "      width: 32px;\n",
              "    }\n",
              "\n",
              "    .colab-df-convert:hover {\n",
              "      background-color: #E2EBFA;\n",
              "      box-shadow: 0px 1px 2px rgba(60, 64, 67, 0.3), 0px 1px 3px 1px rgba(60, 64, 67, 0.15);\n",
              "      fill: #174EA6;\n",
              "    }\n",
              "\n",
              "    [theme=dark] .colab-df-convert {\n",
              "      background-color: #3B4455;\n",
              "      fill: #D2E3FC;\n",
              "    }\n",
              "\n",
              "    [theme=dark] .colab-df-convert:hover {\n",
              "      background-color: #434B5C;\n",
              "      box-shadow: 0px 1px 3px 1px rgba(0, 0, 0, 0.15);\n",
              "      filter: drop-shadow(0px 1px 2px rgba(0, 0, 0, 0.3));\n",
              "      fill: #FFFFFF;\n",
              "    }\n",
              "  </style>\n",
              "\n",
              "      <script>\n",
              "        const buttonEl =\n",
              "          document.querySelector('#df-11576fb0-2d7f-4944-958f-8cc88df91259 button.colab-df-convert');\n",
              "        buttonEl.style.display =\n",
              "          google.colab.kernel.accessAllowed ? 'block' : 'none';\n",
              "\n",
              "        async function convertToInteractive(key) {\n",
              "          const element = document.querySelector('#df-11576fb0-2d7f-4944-958f-8cc88df91259');\n",
              "          const dataTable =\n",
              "            await google.colab.kernel.invokeFunction('convertToInteractive',\n",
              "                                                     [key], {});\n",
              "          if (!dataTable) return;\n",
              "\n",
              "          const docLinkHtml = 'Like what you see? Visit the ' +\n",
              "            '<a target=\"_blank\" href=https://colab.research.google.com/notebooks/data_table.ipynb>data table notebook</a>'\n",
              "            + ' to learn more about interactive tables.';\n",
              "          element.innerHTML = '';\n",
              "          dataTable['output_type'] = 'display_data';\n",
              "          await google.colab.output.renderOutput(dataTable, element);\n",
              "          const docLink = document.createElement('div');\n",
              "          docLink.innerHTML = docLinkHtml;\n",
              "          element.appendChild(docLink);\n",
              "        }\n",
              "      </script>\n",
              "    </div>\n",
              "  </div>\n",
              "  "
            ]
          },
          "metadata": {},
          "execution_count": 15
        }
      ],
      "source": [
        "similarity_rate2=pd.DataFrame(data=similarity_rate,index=game_title,columns=game_title)\n",
        "similarity_rate2"
      ]
    },
    {
      "cell_type": "code",
      "execution_count": 16,
      "metadata": {
        "id": "VjsWdOMVEawg"
      },
      "outputs": [],
      "source": [
        "def recommend_game(appid, top_n):\n",
        "   rec_game=similarity_rate2[appid].reset_index()\n",
        "   rec_game = rec_game.rename(columns={\"appid\": \"game\",appid:'similarity'})\n",
        "   rec_game=rec_game.sort_values(by='similarity',ascending=False).head(top_n)\n",
        "\n",
        "   return rec_game"
      ]
    },
    {
      "cell_type": "code",
      "source": [
        "recommend_game(240,top_n=10)\n"
      ],
      "metadata": {
        "id": "oaCtcmkrZaoF",
        "colab": {
          "base_uri": "https://localhost:8080/",
          "height": 363
        },
        "outputId": "37aca7a9-108a-4e27-c552-66654cb171c3"
      },
      "execution_count": 17,
      "outputs": [
        {
          "output_type": "execute_result",
          "data": {
            "text/plain": [
              "          game  similarity\n",
              "0           10    0.958411\n",
              "16         440    0.896738\n",
              "2961    316030    0.845483\n",
              "1349    222608    0.838952\n",
              "6           70    0.833539\n",
              "3163    325958    0.829366\n",
              "3417    337460    0.826189\n",
              "69        3010    0.821276\n",
              "14139  1094320    0.817350\n",
              "15728  1225780    0.817350"
            ],
            "text/html": [
              "\n",
              "  <div id=\"df-f89e7083-1ee5-4ebf-a1ab-cb4bfb924bd2\">\n",
              "    <div class=\"colab-df-container\">\n",
              "      <div>\n",
              "<style scoped>\n",
              "    .dataframe tbody tr th:only-of-type {\n",
              "        vertical-align: middle;\n",
              "    }\n",
              "\n",
              "    .dataframe tbody tr th {\n",
              "        vertical-align: top;\n",
              "    }\n",
              "\n",
              "    .dataframe thead th {\n",
              "        text-align: right;\n",
              "    }\n",
              "</style>\n",
              "<table border=\"1\" class=\"dataframe\">\n",
              "  <thead>\n",
              "    <tr style=\"text-align: right;\">\n",
              "      <th></th>\n",
              "      <th>game</th>\n",
              "      <th>similarity</th>\n",
              "    </tr>\n",
              "  </thead>\n",
              "  <tbody>\n",
              "    <tr>\n",
              "      <th>0</th>\n",
              "      <td>10</td>\n",
              "      <td>0.958411</td>\n",
              "    </tr>\n",
              "    <tr>\n",
              "      <th>16</th>\n",
              "      <td>440</td>\n",
              "      <td>0.896738</td>\n",
              "    </tr>\n",
              "    <tr>\n",
              "      <th>2961</th>\n",
              "      <td>316030</td>\n",
              "      <td>0.845483</td>\n",
              "    </tr>\n",
              "    <tr>\n",
              "      <th>1349</th>\n",
              "      <td>222608</td>\n",
              "      <td>0.838952</td>\n",
              "    </tr>\n",
              "    <tr>\n",
              "      <th>6</th>\n",
              "      <td>70</td>\n",
              "      <td>0.833539</td>\n",
              "    </tr>\n",
              "    <tr>\n",
              "      <th>3163</th>\n",
              "      <td>325958</td>\n",
              "      <td>0.829366</td>\n",
              "    </tr>\n",
              "    <tr>\n",
              "      <th>3417</th>\n",
              "      <td>337460</td>\n",
              "      <td>0.826189</td>\n",
              "    </tr>\n",
              "    <tr>\n",
              "      <th>69</th>\n",
              "      <td>3010</td>\n",
              "      <td>0.821276</td>\n",
              "    </tr>\n",
              "    <tr>\n",
              "      <th>14139</th>\n",
              "      <td>1094320</td>\n",
              "      <td>0.817350</td>\n",
              "    </tr>\n",
              "    <tr>\n",
              "      <th>15728</th>\n",
              "      <td>1225780</td>\n",
              "      <td>0.817350</td>\n",
              "    </tr>\n",
              "  </tbody>\n",
              "</table>\n",
              "</div>\n",
              "      <button class=\"colab-df-convert\" onclick=\"convertToInteractive('df-f89e7083-1ee5-4ebf-a1ab-cb4bfb924bd2')\"\n",
              "              title=\"Convert this dataframe to an interactive table.\"\n",
              "              style=\"display:none;\">\n",
              "        \n",
              "  <svg xmlns=\"http://www.w3.org/2000/svg\" height=\"24px\"viewBox=\"0 0 24 24\"\n",
              "       width=\"24px\">\n",
              "    <path d=\"M0 0h24v24H0V0z\" fill=\"none\"/>\n",
              "    <path d=\"M18.56 5.44l.94 2.06.94-2.06 2.06-.94-2.06-.94-.94-2.06-.94 2.06-2.06.94zm-11 1L8.5 8.5l.94-2.06 2.06-.94-2.06-.94L8.5 2.5l-.94 2.06-2.06.94zm10 10l.94 2.06.94-2.06 2.06-.94-2.06-.94-.94-2.06-.94 2.06-2.06.94z\"/><path d=\"M17.41 7.96l-1.37-1.37c-.4-.4-.92-.59-1.43-.59-.52 0-1.04.2-1.43.59L10.3 9.45l-7.72 7.72c-.78.78-.78 2.05 0 2.83L4 21.41c.39.39.9.59 1.41.59.51 0 1.02-.2 1.41-.59l7.78-7.78 2.81-2.81c.8-.78.8-2.07 0-2.86zM5.41 20L4 18.59l7.72-7.72 1.47 1.35L5.41 20z\"/>\n",
              "  </svg>\n",
              "      </button>\n",
              "      \n",
              "  <style>\n",
              "    .colab-df-container {\n",
              "      display:flex;\n",
              "      flex-wrap:wrap;\n",
              "      gap: 12px;\n",
              "    }\n",
              "\n",
              "    .colab-df-convert {\n",
              "      background-color: #E8F0FE;\n",
              "      border: none;\n",
              "      border-radius: 50%;\n",
              "      cursor: pointer;\n",
              "      display: none;\n",
              "      fill: #1967D2;\n",
              "      height: 32px;\n",
              "      padding: 0 0 0 0;\n",
              "      width: 32px;\n",
              "    }\n",
              "\n",
              "    .colab-df-convert:hover {\n",
              "      background-color: #E2EBFA;\n",
              "      box-shadow: 0px 1px 2px rgba(60, 64, 67, 0.3), 0px 1px 3px 1px rgba(60, 64, 67, 0.15);\n",
              "      fill: #174EA6;\n",
              "    }\n",
              "\n",
              "    [theme=dark] .colab-df-convert {\n",
              "      background-color: #3B4455;\n",
              "      fill: #D2E3FC;\n",
              "    }\n",
              "\n",
              "    [theme=dark] .colab-df-convert:hover {\n",
              "      background-color: #434B5C;\n",
              "      box-shadow: 0px 1px 3px 1px rgba(0, 0, 0, 0.15);\n",
              "      filter: drop-shadow(0px 1px 2px rgba(0, 0, 0, 0.3));\n",
              "      fill: #FFFFFF;\n",
              "    }\n",
              "  </style>\n",
              "\n",
              "      <script>\n",
              "        const buttonEl =\n",
              "          document.querySelector('#df-f89e7083-1ee5-4ebf-a1ab-cb4bfb924bd2 button.colab-df-convert');\n",
              "        buttonEl.style.display =\n",
              "          google.colab.kernel.accessAllowed ? 'block' : 'none';\n",
              "\n",
              "        async function convertToInteractive(key) {\n",
              "          const element = document.querySelector('#df-f89e7083-1ee5-4ebf-a1ab-cb4bfb924bd2');\n",
              "          const dataTable =\n",
              "            await google.colab.kernel.invokeFunction('convertToInteractive',\n",
              "                                                     [key], {});\n",
              "          if (!dataTable) return;\n",
              "\n",
              "          const docLinkHtml = 'Like what you see? Visit the ' +\n",
              "            '<a target=\"_blank\" href=https://colab.research.google.com/notebooks/data_table.ipynb>data table notebook</a>'\n",
              "            + ' to learn more about interactive tables.';\n",
              "          element.innerHTML = '';\n",
              "          dataTable['output_type'] = 'display_data';\n",
              "          await google.colab.output.renderOutput(dataTable, element);\n",
              "          const docLink = document.createElement('div');\n",
              "          docLink.innerHTML = docLinkHtml;\n",
              "          element.appendChild(docLink);\n",
              "        }\n",
              "      </script>\n",
              "    </div>\n",
              "  </div>\n",
              "  "
            ]
          },
          "metadata": {},
          "execution_count": 17
        }
      ]
    },
    {
      "cell_type": "code",
      "source": [
        "# game1, game2, game3 추천 게임 - 유사도 테이블\n",
        "def gentleman_ver2(game1, game2, game3):\n",
        "  d1 = pd.DataFrame(recommend_game(game1, top_n=10), columns=['game', 'similarity']) # game1 추천목록 & 유사도\n",
        "  d2 = pd.DataFrame(recommend_game(game2, top_n=10), columns=['game', 'similarity']) # game2 추천목록 & 유사도\n",
        "  d3 = pd.DataFrame(recommend_game(game3, top_n=10), columns=['game', 'similarity']) # game3 추천목록 & 유사도\n",
        "  df = pd.merge(d1, d2, on='game', how='outer') # d1, d2 merge\n",
        "  df = pd.merge(df, d3, on='game', how='outer') # d2, d3 merge\n",
        "\n",
        "  for game in df['game']: # ['game'] 행 하나씩 돌면서 \n",
        "   if game in [game1, game2, game3]: # game이 game1, game2, game3에 해당하는 경우\n",
        "      drop_index = df[df['game']==game].index\n",
        "      df.drop(drop_index, axis='index', inplace=True) # 해당 행 drop\n",
        "\n",
        "  # 추천 리스트 간 중복되는 게임이 없는 경우 각 추천리스트에서 2개씩 뽑음\n",
        "  if len(df) == 30: \n",
        "    return [x for x in  recommend_game(game1, top_n=2)['game'].unique()]+ [x for x in recommend_game(game2, top_n=2)['game'].unique()] \n",
        "    + [x for x in recommend_game(game3, top_n=2)['game'].unique()]\n",
        "  # 유사도 평균 내서 상위 6개 추출\n",
        "  else : \n",
        "    df.fillna(0, inplace=True)\n",
        "    df['mean'] = df.mean(axis=1, numeric_only=True)\n",
        "    df.sort_values('mean', ascending=False, inplace=True)\n",
        "    return list(df['game'][:6])"
      ],
      "metadata": {
        "id": "8TikTbtaPITg"
      },
      "execution_count": 18,
      "outputs": []
    },
    {
      "cell_type": "code",
      "source": [
        "gentleman_ver2(240,3010,1225780)"
      ],
      "metadata": {
        "id": "OSwqbb5SPIRQ",
        "colab": {
          "base_uri": "https://localhost:8080/"
        },
        "outputId": "3b9f04e0-6358-4efb-fc47-2aa354392f86"
      },
      "execution_count": 20,
      "outputs": [
        {
          "output_type": "execute_result",
          "data": {
            "text/plain": [
              "[1787790, 1701720, 1446770, 1368780, 1315160, 1223830]"
            ]
          },
          "metadata": {},
          "execution_count": 20
        }
      ]
    },
    {
      "cell_type": "code",
      "source": [
        ""
      ],
      "metadata": {
        "id": "Mrmm3k6y0z2I"
      },
      "execution_count": 23,
      "outputs": []
    },
    {
      "cell_type": "code",
      "source": [
        ""
      ],
      "metadata": {
        "id": "vk8y9wgN1byx"
      },
      "execution_count": null,
      "outputs": []
    }
  ],
  "metadata": {
    "colab": {
      "collapsed_sections": [],
      "machine_shape": "hm",
      "name": "steam 추천시스템 ver2",
      "provenance": [],
      "authorship_tag": "ABX9TyMTmof8sVqri/Sx+hN+KYDT",
      "include_colab_link": true
    },
    "gpuClass": "standard",
    "kernelspec": {
      "display_name": "Python 3",
      "name": "python3"
    },
    "language_info": {
      "name": "python"
    }
  },
  "nbformat": 4,
  "nbformat_minor": 0
}